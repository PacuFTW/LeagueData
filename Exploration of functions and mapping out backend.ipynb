{
 "cells": [
  {
   "cell_type": "markdown",
   "metadata": {},
   "source": [
    "# Notebook to test out the Riot Games API for the backend and basic examples of what type of data visualizations we want to do on our website"
   ]
  },
  {
   "cell_type": "markdown",
   "metadata": {},
   "source": [
    "## Prerequisites"
   ]
  },
  {
   "cell_type": "markdown",
   "metadata": {},
   "source": [
    "### Cassiopeia which is a library to communicate with the Riot API"
   ]
  },
  {
   "cell_type": "code",
   "execution_count": 1,
   "metadata": {},
   "outputs": [
    {
     "name": "stdout",
     "output_type": "stream",
     "text": [
      "Collecting cassiopeia\n",
      "  Downloading cassiopeia-5.0.3-py3-none-any.whl.metadata (985 bytes)\n",
      "Collecting datapipelines>=1.0.7 (from cassiopeia)\n",
      "  Downloading datapipelines-1.0.7.tar.gz (19 kB)\n",
      "  Installing build dependencies: started\n",
      "  Installing build dependencies: finished with status 'done'\n",
      "  Getting requirements to build wheel: started\n",
      "  Getting requirements to build wheel: finished with status 'done'\n",
      "  Installing backend dependencies: started\n",
      "  Installing backend dependencies: finished with status 'done'\n",
      "  Preparing metadata (pyproject.toml): started\n",
      "  Preparing metadata (pyproject.toml): finished with status 'done'\n",
      "Collecting merakicommons>=1.0.10 (from cassiopeia)\n",
      "  Downloading merakicommons-1.0.10-py3-none-any.whl.metadata (825 bytes)\n",
      "Collecting Pillow (from cassiopeia)\n",
      "  Downloading pillow-10.2.0-cp311-cp311-win_amd64.whl.metadata (9.9 kB)\n",
      "Collecting arrow (from cassiopeia)\n",
      "  Downloading arrow-1.3.0-py3-none-any.whl.metadata (7.5 kB)\n",
      "Collecting requests (from cassiopeia)\n",
      "  Downloading requests-2.31.0-py3-none-any.whl.metadata (4.6 kB)\n",
      "Collecting networkx (from datapipelines>=1.0.7->cassiopeia)\n",
      "  Downloading networkx-3.2.1-py3-none-any.whl.metadata (5.2 kB)\n",
      "Requirement already satisfied: python-dateutil>=2.7.0 in c:\\users\\patri\\appdata\\local\\packages\\pythonsoftwarefoundation.python.3.11_qbz5n2kfra8p0\\localcache\\local-packages\\python311\\site-packages (from arrow->cassiopeia) (2.8.2)\n",
      "Collecting types-python-dateutil>=2.8.10 (from arrow->cassiopeia)\n",
      "  Downloading types_python_dateutil-2.8.19.20240311-py3-none-any.whl.metadata (1.8 kB)\n",
      "Collecting charset-normalizer<4,>=2 (from requests->cassiopeia)\n",
      "  Downloading charset_normalizer-3.3.2-cp311-cp311-win_amd64.whl.metadata (34 kB)\n",
      "Collecting idna<4,>=2.5 (from requests->cassiopeia)\n",
      "  Downloading idna-3.6-py3-none-any.whl.metadata (9.9 kB)\n",
      "Collecting urllib3<3,>=1.21.1 (from requests->cassiopeia)\n",
      "  Downloading urllib3-2.2.1-py3-none-any.whl.metadata (6.4 kB)\n",
      "Collecting certifi>=2017.4.17 (from requests->cassiopeia)\n",
      "  Downloading certifi-2024.2.2-py3-none-any.whl.metadata (2.2 kB)\n",
      "Requirement already satisfied: six>=1.5 in c:\\users\\patri\\appdata\\local\\packages\\pythonsoftwarefoundation.python.3.11_qbz5n2kfra8p0\\localcache\\local-packages\\python311\\site-packages (from python-dateutil>=2.7.0->arrow->cassiopeia) (1.16.0)\n",
      "Downloading cassiopeia-5.0.3-py3-none-any.whl (169 kB)\n",
      "   ---------------------------------------- 0.0/169.3 kB ? eta -:--:--\n",
      "   --------------------------------------- 169.3/169.3 kB 10.6 MB/s eta 0:00:00\n",
      "Downloading merakicommons-1.0.10-py3-none-any.whl (17 kB)\n",
      "Downloading arrow-1.3.0-py3-none-any.whl (66 kB)\n",
      "   ---------------------------------------- 0.0/66.4 kB ? eta -:--:--\n",
      "   ---------------------------------------- 66.4/66.4 kB 3.7 MB/s eta 0:00:00\n",
      "Downloading pillow-10.2.0-cp311-cp311-win_amd64.whl (2.6 MB)\n",
      "   ---------------------------------------- 0.0/2.6 MB ? eta -:--:--\n",
      "   ------ --------------------------------- 0.4/2.6 MB 8.9 MB/s eta 0:00:01\n",
      "   -------------- ------------------------- 0.9/2.6 MB 11.7 MB/s eta 0:00:01\n",
      "   --------------------- ------------------ 1.4/2.6 MB 10.0 MB/s eta 0:00:01\n",
      "   ------------------------- -------------- 1.7/2.6 MB 10.8 MB/s eta 0:00:01\n",
      "   -------------------------------- ------- 2.1/2.6 MB 9.0 MB/s eta 0:00:01\n",
      "   ---------------------------------------  2.6/2.6 MB 9.8 MB/s eta 0:00:01\n",
      "   ---------------------------------------- 2.6/2.6 MB 9.3 MB/s eta 0:00:00\n",
      "Downloading requests-2.31.0-py3-none-any.whl (62 kB)\n",
      "   ---------------------------------------- 0.0/62.6 kB ? eta -:--:--\n",
      "   ---------------------------------------- 62.6/62.6 kB 1.7 MB/s eta 0:00:00\n",
      "Downloading certifi-2024.2.2-py3-none-any.whl (163 kB)\n",
      "   ---------------------------------------- 0.0/163.8 kB ? eta -:--:--\n",
      "   ---------------------- ----------------- 92.2/163.8 kB ? eta -:--:--\n",
      "   ---------------------------------------- 163.8/163.8 kB 3.3 MB/s eta 0:00:00\n",
      "Downloading charset_normalizer-3.3.2-cp311-cp311-win_amd64.whl (99 kB)\n",
      "   ---------------------------------------- 0.0/99.9 kB ? eta -:--:--\n",
      "   ------------------------------------ --- 92.2/99.9 kB 2.6 MB/s eta 0:00:01\n",
      "   ---------------------------------------- 99.9/99.9 kB 1.9 MB/s eta 0:00:00\n",
      "Downloading idna-3.6-py3-none-any.whl (61 kB)\n",
      "   ---------------------------------------- 0.0/61.6 kB ? eta -:--:--\n",
      "   ---------------------------------------- 61.6/61.6 kB 3.2 MB/s eta 0:00:00\n",
      "Downloading types_python_dateutil-2.8.19.20240311-py3-none-any.whl (9.7 kB)\n",
      "Downloading urllib3-2.2.1-py3-none-any.whl (121 kB)\n",
      "   ---------------------------------------- 0.0/121.1 kB ? eta -:--:--\n",
      "   ---------------------------------------- 121.1/121.1 kB 2.4 MB/s eta 0:00:00\n",
      "Downloading networkx-3.2.1-py3-none-any.whl (1.6 MB)\n",
      "   ---------------------------------------- 0.0/1.6 MB ? eta -:--:--\n",
      "   -------------- ------------------------- 0.6/1.6 MB 7.6 MB/s eta 0:00:01\n",
      "   ----------------------------- ---------- 1.2/1.6 MB 9.5 MB/s eta 0:00:01\n",
      "   ---------------------------------- ----- 1.4/1.6 MB 9.0 MB/s eta 0:00:01\n",
      "   ---------------------------------------- 1.6/1.6 MB 7.5 MB/s eta 0:00:00\n",
      "Building wheels for collected packages: datapipelines\n",
      "  Building wheel for datapipelines (pyproject.toml): started\n",
      "  Building wheel for datapipelines (pyproject.toml): finished with status 'done'\n",
      "  Created wheel for datapipelines: filename=datapipelines-1.0.7-py3-none-any.whl size=23214 sha256=c3afc47b14bb4865a01e0beb029e9ce0da6a2d8e3b1e3495b9ce7a3a1920a2dc\n",
      "  Stored in directory: c:\\users\\patri\\appdata\\local\\pip\\cache\\wheels\\a6\\1c\\0e\\a0edcdf87a0ab6f2ace3462c462600b210a7e5de3a11b7a4af\n",
      "Successfully built datapipelines\n",
      "Installing collected packages: merakicommons, urllib3, types-python-dateutil, Pillow, networkx, idna, charset-normalizer, certifi, requests, datapipelines, arrow, cassiopeia\n",
      "Successfully installed Pillow-10.2.0 arrow-1.3.0 cassiopeia-5.0.3 certifi-2024.2.2 charset-normalizer-3.3.2 datapipelines-1.0.7 idna-3.6 merakicommons-1.0.10 networkx-3.2.1 requests-2.31.0 types-python-dateutil-2.8.19.20240311 urllib3-2.2.1\n",
      "Note: you may need to restart the kernel to use updated packages.\n"
     ]
    }
   ],
   "source": [
    "pip install cassiopeia"
   ]
  },
  {
   "cell_type": "code",
   "execution_count": 2,
   "metadata": {},
   "outputs": [],
   "source": [
    "import cassiopeia as cass"
   ]
  },
  {
   "cell_type": "markdown",
   "metadata": {},
   "source": [
    "### Set Riot API key \n",
    "This needs to be changed every 24 hours, a new one can be generated from the [dashboard on this link](https://developer.riotgames.com)"
   ]
  },
  {
   "cell_type": "code",
   "execution_count": 3,
   "metadata": {},
   "outputs": [],
   "source": [
    "cass.set_riot_api_key(\"RGAPI-2913e682-e60b-4d24-91a2-84b7ea0e5c75\")"
   ]
  },
  {
   "cell_type": "code",
   "execution_count": null,
   "metadata": {},
   "outputs": [],
   "source": []
  }
 ],
 "metadata": {
  "kernelspec": {
   "display_name": "Python 3",
   "language": "python",
   "name": "python3"
  },
  "language_info": {
   "codemirror_mode": {
    "name": "ipython",
    "version": 3
   },
   "file_extension": ".py",
   "mimetype": "text/x-python",
   "name": "python",
   "nbconvert_exporter": "python",
   "pygments_lexer": "ipython3",
   "version": "3.11.8"
  }
 },
 "nbformat": 4,
 "nbformat_minor": 2
}
