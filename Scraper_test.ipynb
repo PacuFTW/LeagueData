{
  "cells": [
    {
      "cell_type": "code",
      "execution_count": 3,
      "metadata": {
        "colab": {
          "base_uri": "https://localhost:8080/"
        },
        "id": "c5ZjHvcC5Y2c",
        "outputId": "30dcaa83-0c68-41dd-ecd7-e9f64f7da913"
      },
      "outputs": [
        {
          "name": "stdout",
          "output_type": "stream",
          "text": [
            "Requirement already satisfied: bs4 in c:\\users\\patri\\appdata\\local\\programs\\python\\python311\\lib\\site-packages (0.0.2)\n",
            "Requirement already satisfied: beautifulsoup4 in c:\\users\\patri\\appdata\\local\\programs\\python\\python311\\lib\\site-packages (from bs4) (4.12.3)\n",
            "Requirement already satisfied: soupsieve>1.2 in c:\\users\\patri\\appdata\\local\\programs\\python\\python311\\lib\\site-packages (from beautifulsoup4->bs4) (2.5)\n"
          ]
        }
      ],
      "source": [
        "!pip install bs4"
      ]
    },
    {
      "cell_type": "code",
      "execution_count": 4,
      "metadata": {},
      "outputs": [
        {
          "name": "stdout",
          "output_type": "stream",
          "text": [
            "Requirement already satisfied: selenium in c:\\users\\patri\\appdata\\local\\programs\\python\\python311\\lib\\site-packages (4.18.1)\n",
            "Requirement already satisfied: urllib3<3,>=1.26 in c:\\users\\patri\\appdata\\local\\programs\\python\\python311\\lib\\site-packages (from urllib3[socks]<3,>=1.26->selenium) (2.2.1)\n",
            "Requirement already satisfied: trio~=0.17 in c:\\users\\patri\\appdata\\local\\programs\\python\\python311\\lib\\site-packages (from selenium) (0.25.0)\n",
            "Requirement already satisfied: trio-websocket~=0.9 in c:\\users\\patri\\appdata\\local\\programs\\python\\python311\\lib\\site-packages (from selenium) (0.11.1)\n",
            "Requirement already satisfied: certifi>=2021.10.8 in c:\\users\\patri\\appdata\\local\\programs\\python\\python311\\lib\\site-packages (from selenium) (2024.2.2)\n",
            "Requirement already satisfied: typing_extensions>=4.9.0 in c:\\users\\patri\\appdata\\local\\programs\\python\\python311\\lib\\site-packages (from selenium) (4.10.0)\n",
            "Requirement already satisfied: attrs>=23.2.0 in c:\\users\\patri\\appdata\\local\\programs\\python\\python311\\lib\\site-packages (from trio~=0.17->selenium) (23.2.0)\n",
            "Requirement already satisfied: sortedcontainers in c:\\users\\patri\\appdata\\local\\programs\\python\\python311\\lib\\site-packages (from trio~=0.17->selenium) (2.4.0)\n",
            "Requirement already satisfied: idna in c:\\users\\patri\\appdata\\local\\programs\\python\\python311\\lib\\site-packages (from trio~=0.17->selenium) (3.6)\n",
            "Requirement already satisfied: outcome in c:\\users\\patri\\appdata\\local\\programs\\python\\python311\\lib\\site-packages (from trio~=0.17->selenium) (1.3.0.post0)\n",
            "Requirement already satisfied: sniffio>=1.3.0 in c:\\users\\patri\\appdata\\local\\programs\\python\\python311\\lib\\site-packages (from trio~=0.17->selenium) (1.3.1)\n",
            "Requirement already satisfied: cffi>=1.14 in c:\\users\\patri\\appdata\\local\\programs\\python\\python311\\lib\\site-packages (from trio~=0.17->selenium) (1.16.0)\n",
            "Requirement already satisfied: wsproto>=0.14 in c:\\users\\patri\\appdata\\local\\programs\\python\\python311\\lib\\site-packages (from trio-websocket~=0.9->selenium) (1.2.0)\n",
            "Requirement already satisfied: pysocks!=1.5.7,<2.0,>=1.5.6 in c:\\users\\patri\\appdata\\local\\programs\\python\\python311\\lib\\site-packages (from urllib3[socks]<3,>=1.26->selenium) (1.7.1)\n",
            "Requirement already satisfied: pycparser in c:\\users\\patri\\appdata\\local\\programs\\python\\python311\\lib\\site-packages (from cffi>=1.14->trio~=0.17->selenium) (2.21)\n",
            "Requirement already satisfied: h11<1,>=0.9.0 in c:\\users\\patri\\appdata\\local\\programs\\python\\python311\\lib\\site-packages (from wsproto>=0.14->trio-websocket~=0.9->selenium) (0.14.0)\n"
          ]
        }
      ],
      "source": [
        "!pip install selenium"
      ]
    },
    {
      "cell_type": "code",
      "execution_count": 5,
      "metadata": {},
      "outputs": [],
      "source": [
        "import requests\n",
        "from bs4 import BeautifulSoup"
      ]
    },
    {
      "cell_type": "code",
      "execution_count": 6,
      "metadata": {},
      "outputs": [],
      "source": [
        "def get_player_rank(server,name,tagline):\n",
        "    opgg_url = f\"https://{server}.op.gg/summoner/userName={name}-{tagline}\"\n",
        "\n",
        "    try:\n",
        "        response = requests.get(opgg_url)\n",
        "        response.raise_for_status()\n",
        "\n",
        "        soup = BeautifulSoup(response.text, 'html.parser')\n",
        "        rank_element = soup.find(class_='tier')\n",
        "\n",
        "        if rank_element:\n",
        "            rank = rank_element.text.strip()\n",
        "            return rank\n",
        "        else:\n",
        "            print(\"Rank information not found for this player.\")\n",
        "            return None\n",
        "\n",
        "    except requests.exceptions.RequestException as e:\n",
        "        print(f\"Error fetching data: {e}\")\n",
        "        return None"
      ]
    },
    {
      "cell_type": "code",
      "execution_count": 10,
      "metadata": {},
      "outputs": [
        {
          "name": "stdout",
          "output_type": "stream",
          "text": [
            "biadee#eune is ranked as: emerald 1\n"
          ]
        }
      ],
      "source": [
        "name = \"biadee\"\n",
        "tagline = \"eune\"\n",
        "server = \"eune\"\n",
        "player_rank = get_player_rank(server,name,tagline)\n",
        "if player_rank:\n",
        "    print(f\"{name}#{tagline} is ranked as: {player_rank}\")"
      ]
    },
    {
      "cell_type": "code",
      "execution_count": 11,
      "metadata": {},
      "outputs": [
        {
          "ename": "TimeoutException",
          "evalue": "Message: \nStacktrace:\n\tGetHandleVerifier [0x00007FF66EEEAD02+56930]\n\t(No symbol) [0x00007FF66EE5F602]\n\t(No symbol) [0x00007FF66ED142E5]\n\t(No symbol) [0x00007FF66ED598ED]\n\t(No symbol) [0x00007FF66ED59A2C]\n\t(No symbol) [0x00007FF66ED9A967]\n\t(No symbol) [0x00007FF66ED7BCDF]\n\t(No symbol) [0x00007FF66ED981E2]\n\t(No symbol) [0x00007FF66ED7BA43]\n\t(No symbol) [0x00007FF66ED4D438]\n\t(No symbol) [0x00007FF66ED4E4D1]\n\tGetHandleVerifier [0x00007FF66F266F8D+3711213]\n\tGetHandleVerifier [0x00007FF66F2C04CD+4077101]\n\tGetHandleVerifier [0x00007FF66F2B865F+4044735]\n\tGetHandleVerifier [0x00007FF66EF89736+706710]\n\t(No symbol) [0x00007FF66EE6B8DF]\n\t(No symbol) [0x00007FF66EE66AC4]\n\t(No symbol) [0x00007FF66EE66C1C]\n\t(No symbol) [0x00007FF66EE568D4]\n\tBaseThreadInitThunk [0x00007FFD6A28257D+29]\n\tRtlUserThreadStart [0x00007FFD6C52AA58+40]\n",
          "output_type": "error",
          "traceback": [
            "\u001b[1;31m---------------------------------------------------------------------------\u001b[0m",
            "\u001b[1;31mTimeoutException\u001b[0m                          Traceback (most recent call last)",
            "Cell \u001b[1;32mIn[11], line 15\u001b[0m\n\u001b[0;32m     12\u001b[0m writer \u001b[38;5;241m=\u001b[39m csv\u001b[38;5;241m.\u001b[39mwriter(file)\n\u001b[0;32m     14\u001b[0m driver\u001b[38;5;241m.\u001b[39mget(url)\n\u001b[1;32m---> 15\u001b[0m \u001b[43mWebDriverWait\u001b[49m\u001b[43m(\u001b[49m\u001b[43mdriver\u001b[49m\u001b[43m,\u001b[49m\u001b[43m \u001b[49m\u001b[38;5;241;43m10\u001b[39;49m\u001b[43m)\u001b[49m\u001b[38;5;241;43m.\u001b[39;49m\u001b[43muntil\u001b[49m\u001b[43m(\u001b[49m\u001b[43mEC\u001b[49m\u001b[38;5;241;43m.\u001b[39;49m\u001b[43mpresence_of_element_located\u001b[49m\u001b[43m(\u001b[49m\u001b[43m(\u001b[49m\u001b[43mBy\u001b[49m\u001b[38;5;241;43m.\u001b[39;49m\u001b[43mXPATH\u001b[49m\u001b[43m,\u001b[49m\u001b[43m \u001b[49m\u001b[38;5;124;43m\"\u001b[39;49m\u001b[38;5;124;43m//*[@id=\u001b[39;49m\u001b[38;5;124;43m'\u001b[39;49m\u001b[38;5;124;43mroot\u001b[39;49m\u001b[38;5;124;43m'\u001b[39;49m\u001b[38;5;124;43m]/div[9]/div[2]\u001b[39;49m\u001b[38;5;124;43m\"\u001b[39;49m\u001b[43m)\u001b[49m\u001b[43m)\u001b[49m\u001b[43m)\u001b[49m\n\u001b[0;32m     17\u001b[0m \u001b[38;5;66;03m#List of attributes that are getting scrapped.\u001b[39;00m\n\u001b[0;32m     18\u001b[0m name\u001b[38;5;241m=\u001b[39m[]\n",
            "File \u001b[1;32mc:\\Users\\patri\\AppData\\Local\\Programs\\Python\\Python311\\Lib\\site-packages\\selenium\\webdriver\\support\\wait.py:105\u001b[0m, in \u001b[0;36mWebDriverWait.until\u001b[1;34m(self, method, message)\u001b[0m\n\u001b[0;32m    103\u001b[0m     \u001b[38;5;28;01mif\u001b[39;00m time\u001b[38;5;241m.\u001b[39mmonotonic() \u001b[38;5;241m>\u001b[39m end_time:\n\u001b[0;32m    104\u001b[0m         \u001b[38;5;28;01mbreak\u001b[39;00m\n\u001b[1;32m--> 105\u001b[0m \u001b[38;5;28;01mraise\u001b[39;00m TimeoutException(message, screen, stacktrace)\n",
            "\u001b[1;31mTimeoutException\u001b[0m: Message: \nStacktrace:\n\tGetHandleVerifier [0x00007FF66EEEAD02+56930]\n\t(No symbol) [0x00007FF66EE5F602]\n\t(No symbol) [0x00007FF66ED142E5]\n\t(No symbol) [0x00007FF66ED598ED]\n\t(No symbol) [0x00007FF66ED59A2C]\n\t(No symbol) [0x00007FF66ED9A967]\n\t(No symbol) [0x00007FF66ED7BCDF]\n\t(No symbol) [0x00007FF66ED981E2]\n\t(No symbol) [0x00007FF66ED7BA43]\n\t(No symbol) [0x00007FF66ED4D438]\n\t(No symbol) [0x00007FF66ED4E4D1]\n\tGetHandleVerifier [0x00007FF66F266F8D+3711213]\n\tGetHandleVerifier [0x00007FF66F2C04CD+4077101]\n\tGetHandleVerifier [0x00007FF66F2B865F+4044735]\n\tGetHandleVerifier [0x00007FF66EF89736+706710]\n\t(No symbol) [0x00007FF66EE6B8DF]\n\t(No symbol) [0x00007FF66EE66AC4]\n\t(No symbol) [0x00007FF66EE66C1C]\n\t(No symbol) [0x00007FF66EE568D4]\n\tBaseThreadInitThunk [0x00007FFD6A28257D+29]\n\tRtlUserThreadStart [0x00007FFD6C52AA58+40]\n"
          ]
        }
      ],
      "source": []
    },
    {
      "cell_type": "code",
      "execution_count": null,
      "metadata": {},
      "outputs": [
        {
          "name": "stderr",
          "output_type": "stream",
          "text": [
            "2024-03-19 10:52:04 [urllib3.connectionpool] DEBUG: Starting new HTTPS connection (1): lolalytics.com:443\n",
            "2024-03-19 10:52:04 [urllib3.connectionpool] DEBUG: https://lolalytics.com:443 \"GET /lol/tierlist/ HTTP/1.1\" 200 None\n"
          ]
        },
        {
          "name": "stdout",
          "output_type": "stream",
          "text": [
            "None\n",
            "Broken champions information not found.\n"
          ]
        }
      ],
      "source": []
    },
    {
      "cell_type": "code",
      "execution_count": null,
      "metadata": {},
      "outputs": [],
      "source": []
    }
  ],
  "metadata": {
    "colab": {
      "provenance": []
    },
    "kernelspec": {
      "display_name": "Python 3",
      "name": "python3"
    },
    "language_info": {
      "codemirror_mode": {
        "name": "ipython",
        "version": 3
      },
      "file_extension": ".py",
      "mimetype": "text/x-python",
      "name": "python",
      "nbconvert_exporter": "python",
      "pygments_lexer": "ipython3",
      "version": "3.11.7"
    }
  },
  "nbformat": 4,
  "nbformat_minor": 0
}
